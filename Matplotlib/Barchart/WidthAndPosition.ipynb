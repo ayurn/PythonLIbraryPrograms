{
 "metadata": {
  "language_info": {
   "codemirror_mode": {
    "name": "ipython",
    "version": 3
   },
   "file_extension": ".py",
   "mimetype": "text/x-python",
   "name": "python",
   "nbconvert_exporter": "python",
   "pygments_lexer": "ipython3",
   "version": "3.8.10"
  },
  "orig_nbformat": 4,
  "kernelspec": {
   "name": "python3",
   "display_name": "Python 3.8.10 64-bit"
  },
  "interpreter": {
   "hash": "31f2aee4e71d21fbe5cf8b01ff0e069b9275f58929596ceb00d14d90e3e16cd6"
  }
 },
 "nbformat": 4,
 "nbformat_minor": 2,
 "cells": [
  {
   "cell_type": "code",
   "execution_count": null,
   "metadata": {},
   "outputs": [],
   "source": [
    "'''\n",
    "@Author: Ayur Ninawe\n",
    "@Date: 2021-07-14 17:00:30\n",
    "@Last Modified by: Ayur Ninawe\n",
    "@Last Modified time: 2021-07-14 17:00:30\n",
    "@Title : Write a Python programming to display a bar chart of the popularity of programming\n",
    "Languages. Select the width of each bar and their positions.\n",
    "'''"
   ]
  },
  {
   "cell_type": "code",
   "execution_count": 2,
   "metadata": {},
   "outputs": [],
   "source": [
    "def widthpos():\n",
    "    '''\n",
    "    Description : function to print width of each bar and their positions.\n",
    "    '''\n",
    "    try:\n",
    "        from matplotlib import pyplot as plt\n",
    "\n",
    "        languages=['Java','Python','PHP','JavaScript','C#','C++']\n",
    "        popularity=[22.2,17.6,8.8,8,7.7,6.7]\n",
    "\n",
    "        plt.bar(languages,popularity,data=[1,2,3,4,5,6])\n",
    "        plt.xlabel(\"Programming Languages\",color='maroon')\n",
    "        plt.ylabel(\"Popularity\",color='maroon')\n",
    "\n",
    "        x_pos=[index for index, value in enumerate(languages)]\n",
    "        plt.xticks(x_pos,languages)\n",
    "        y_pos=[0,1,2,3,4,5]\n",
    "        width=[0.5,0.8,0.6,0.7,0.4,0.25]\n",
    "        plt.bar(y_pos,popularity,width=width)\n",
    "        plt.xticks(y_pos,languages)\n",
    "        plt.minorticks_on()\n",
    "        plt.grid(which='major',linestyle='-',color='blue')\n",
    "        plt.grid(which='minor',linestyle=\":\",color='black')\n",
    "        plt.title(\"Popularity of programming languages\", color='black')\n",
    "        plt.show()\n",
    "    except Exception as e:\n",
    "        loggerfile.Log.logging.error(e)   \n",
    "    "
   ]
  },
  {
   "cell_type": "code",
   "execution_count": null,
   "metadata": {},
   "outputs": [],
   "source": [
    "widthpos()"
   ]
  }
 ]
}