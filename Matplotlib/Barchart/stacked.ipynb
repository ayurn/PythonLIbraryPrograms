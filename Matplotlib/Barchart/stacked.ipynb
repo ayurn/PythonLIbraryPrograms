{
 "metadata": {
  "language_info": {
   "codemirror_mode": {
    "name": "ipython",
    "version": 3
   },
   "file_extension": ".py",
   "mimetype": "text/x-python",
   "name": "python",
   "nbconvert_exporter": "python",
   "pygments_lexer": "ipython3",
   "version": "3.8.10"
  },
  "orig_nbformat": 4,
  "kernelspec": {
   "name": "python3",
   "display_name": "Python 3.8.10 64-bit"
  },
  "interpreter": {
   "hash": "31f2aee4e71d21fbe5cf8b01ff0e069b9275f58929596ceb00d14d90e3e16cd6"
  }
 },
 "nbformat": 4,
 "nbformat_minor": 2,
 "cells": [
  {
   "cell_type": "code",
   "execution_count": null,
   "metadata": {},
   "outputs": [],
   "source": [
    "'''\n",
    "@Author: Ayur Ninawe\n",
    "@Date: 2021-07-14 17:00:30\n",
    "@Last Modified by: Ayur Ninawe\n",
    "@Last Modified time: 2021-07-14 17:00:30\n",
    "@Title : ​ Write a Python program to create a stacked bar plot with error bars.\n",
    "'''"
   ]
  },
  {
   "cell_type": "code",
   "execution_count": 1,
   "metadata": {},
   "outputs": [],
   "source": [
    "import numpy as np\n",
    "import matplotlib.pyplot as plt\n",
    "from loggerfile import Log\n",
    "\n",
    "def stacked():\n",
    "    '''\n",
    "    Description : function to create a stacked bar plot with error bars.\n",
    "    '''\n",
    "    try:\n",
    "\n",
    "        N = 5\n",
    "        menMeans = (22, 30, 35, 35, 26)\n",
    "        womenMeans = (25, 32, 30, 35, 29)\n",
    "        menStd = (4, 3, 4, 1, 5)\n",
    "        womenStd = (3, 5, 2, 3, 3)\n",
    "\n",
    "        ind = np.arange(N)\n",
    "\n",
    "        width = 0.35\n",
    "\n",
    "        p1 = plt.bar(ind, menMeans, width, yerr=menStd, color='pink')\n",
    "        p2 = plt.bar(ind, womenMeans, width, bottom=menMeans, yerr=womenStd, color='cyan')\n",
    "\n",
    "        plt.ylabel('Scores')\n",
    "        plt.xlabel('Groups')\n",
    "        plt.title('Scores by group\\n' + 'and gender')\n",
    "        plt.xticks(ind, ('Group1', 'Group2', 'Group3', 'Group4', 'Group5'))\n",
    "        plt.yticks(np.arange(0, 81, 10))\n",
    "        plt.legend((p1[0], p2[0]), ('Men', 'Women'))\n",
    "\n",
    "        plt.show()\n",
    "    except Exception as e:\n",
    "        loggerfile.Log.logging.error(e)   \n",
    "\n"
   ]
  },
  {
   "cell_type": "code",
   "execution_count": null,
   "metadata": {},
   "outputs": [],
   "source": [
    "stacked()"
   ]
  }
 ]
}