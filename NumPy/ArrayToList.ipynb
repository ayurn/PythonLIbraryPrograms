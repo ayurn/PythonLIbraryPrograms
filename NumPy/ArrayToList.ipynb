{
 "metadata": {
  "language_info": {
   "codemirror_mode": {
    "name": "ipython",
    "version": 3
   },
   "file_extension": ".py",
   "mimetype": "text/x-python",
   "name": "python",
   "nbconvert_exporter": "python",
   "pygments_lexer": "ipython3",
   "version": "3.8.10"
  },
  "orig_nbformat": 4,
  "kernelspec": {
   "name": "python3",
   "display_name": "Python 3.8.10 64-bit"
  },
  "interpreter": {
   "hash": "31f2aee4e71d21fbe5cf8b01ff0e069b9275f58929596ceb00d14d90e3e16cd6"
  }
 },
 "nbformat": 4,
 "nbformat_minor": 2,
 "cells": [
  {
   "cell_type": "code",
   "execution_count": null,
   "metadata": {},
   "outputs": [],
   "source": [
    "'''\n",
    "@Author: Ayur Ninawe\n",
    "@Date: 2021-07-12 18:00:30\n",
    "@Last Modified by: Ayur Ninawe\n",
    "@Last Modified time: 2021-07-12 18:00:30\n",
    "@Title : Write a Python program to convert a NumPy array into Python list structure.\n",
    "'''"
   ]
  },
  {
   "cell_type": "code",
   "execution_count": 1,
   "metadata": {},
   "outputs": [],
   "source": [
    "import numpy as np \n",
    "from loggerfile import Log"
   ]
  },
  {
   "cell_type": "code",
   "execution_count": 2,
   "metadata": {},
   "outputs": [],
   "source": [
    "def tolists():\n",
    "    \"\"\"\n",
    "    Description : \n",
    "        function to convert a NumPy array into Python list structure.\n",
    "    \"\"\"\n",
    "    try:\n",
    "        array=np.array([[0,1],[2,3],[4,5]])\n",
    "        print(array.tolist())\n",
    "    except Exception as e:\n",
    "        loggerfile.Log.logging.error(e)    \n"
   ]
  },
  {
   "cell_type": "code",
   "execution_count": 3,
   "metadata": {},
   "outputs": [
    {
     "output_type": "stream",
     "name": "stdout",
     "text": [
      "[[0, 1], [2, 3], [4, 5]]\n"
     ]
    }
   ],
   "source": [
    "tolists()"
   ]
  },
  {
   "cell_type": "code",
   "execution_count": 4,
   "metadata": {},
   "outputs": [],
   "source": [
    "def pylists():\n",
    "    \"\"\"\n",
    "    Description : \n",
    "        function to convert a NumPy array into Python list structure.\n",
    "    \"\"\"\n",
    "    try:\n",
    "        array=np.array([ 0.26153123, 0.52760141, 0.5718299, 0.5927067, 0.7831874, 0.69746349, \n",
    "        0.35399976, 0.99469633, 0.0694458, 0.54711478])\n",
    "        print(np.around(array,decimals=3).tolist()) \n",
    "    except Exception as e:\n",
    "        loggerfile.Log.logging.error(e)\n"
   ]
  },
  {
   "cell_type": "code",
   "execution_count": null,
   "metadata": {},
   "outputs": [],
   "source": [
    "pylists()"
   ]
  }
 ]
}