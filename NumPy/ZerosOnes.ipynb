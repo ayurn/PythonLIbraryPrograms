{
 "metadata": {
  "language_info": {
   "codemirror_mode": {
    "name": "ipython",
    "version": 3
   },
   "file_extension": ".py",
   "mimetype": "text/x-python",
   "name": "python",
   "nbconvert_exporter": "python",
   "pygments_lexer": "ipython3",
   "version": "3.8.10"
  },
  "orig_nbformat": 4,
  "kernelspec": {
   "name": "python3",
   "display_name": "Python 3.8.10 64-bit"
  },
  "interpreter": {
   "hash": "31f2aee4e71d21fbe5cf8b01ff0e069b9275f58929596ceb00d14d90e3e16cd6"
  }
 },
 "nbformat": 4,
 "nbformat_minor": 2,
 "cells": [
  {
   "cell_type": "code",
   "execution_count": null,
   "metadata": {},
   "outputs": [],
   "source": [
    "'''\n",
    "@Author: Ayur Ninawe\n",
    "@Date: 2021-07-12 18:00:30\n",
    "@Last Modified by: Ayur Ninawe\n",
    "@Last Modified time: 2021-07-12 18:00:30\n",
    "@Title : Write a Python program to create an array which looks like below array.\n",
    "Expected Output:\n",
    "[[ 0. 0. 0.]\n",
    "[ 1. 0. 0.]\n",
    "[ 1. 1. 0.]\n",
    "[ 1. 1. 1.]]\n",
    "'''"
   ]
  },
  {
   "cell_type": "code",
   "execution_count": 1,
   "metadata": {},
   "outputs": [],
   "source": [
    "import numpy as np \n",
    "from loggerfile import Log"
   ]
  },
  {
   "cell_type": "code",
   "execution_count": 4,
   "metadata": {},
   "outputs": [],
   "source": [
    "def zeroones():\n",
    "    \"\"\"\n",
    "    Description : \n",
    "        function to create an array with zeros and ones.\n",
    "    \"\"\"\n",
    "    try:\n",
    "        array=np.zeros((4,3))\n",
    "        for i in range(0,3):\n",
    "            array[i+1:,:i+1]=1\n",
    "        print(array)\n",
    "    except Exception as e:\n",
    "        loggerfile.Log.logging.error(e) "
   ]
  },
  {
   "cell_type": "code",
   "execution_count": 5,
   "metadata": {},
   "outputs": [
    {
     "output_type": "stream",
     "name": "stdout",
     "text": [
      "[[0. 0. 0.]\n [1. 0. 0.]\n [1. 1. 0.]\n [1. 1. 1.]]\n"
     ]
    }
   ],
   "source": [
    "zeroones()"
   ]
  },
  {
   "cell_type": "code",
   "execution_count": null,
   "metadata": {},
   "outputs": [],
   "source": []
  }
 ]
}