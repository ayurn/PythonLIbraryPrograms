{
 "metadata": {
  "language_info": {
   "codemirror_mode": {
    "name": "ipython",
    "version": 3
   },
   "file_extension": ".py",
   "mimetype": "text/x-python",
   "name": "python",
   "nbconvert_exporter": "python",
   "pygments_lexer": "ipython3",
   "version": "3.8.10"
  },
  "orig_nbformat": 4,
  "kernelspec": {
   "name": "python3",
   "display_name": "Python 3.8.10 64-bit"
  },
  "interpreter": {
   "hash": "31f2aee4e71d21fbe5cf8b01ff0e069b9275f58929596ceb00d14d90e3e16cd6"
  }
 },
 "nbformat": 4,
 "nbformat_minor": 2,
 "cells": [
  {
   "cell_type": "code",
   "execution_count": null,
   "metadata": {},
   "outputs": [],
   "source": [
    "'''\n",
    "@Author: Ayur Ninawe\n",
    "@Date: 2021-07-11 18:00:30\n",
    "@Last Modified by: Ayur Ninawe\n",
    "@Last Modified time: 2021-07-11 18:00:30\n",
    "@Title : Write a Python program to find the real and imaginary parts of an array of complex numbers.\n",
    "'''"
   ]
  },
  {
   "cell_type": "code",
   "execution_count": 1,
   "metadata": {},
   "outputs": [],
   "source": [
    "import numpy as np\n",
    "from loggerfile import Logger "
   ]
  },
  {
   "cell_type": "code",
   "execution_count": 2,
   "metadata": {},
   "outputs": [],
   "source": [
    "def complexNum():\n",
    "    \"\"\"\n",
    "        Description:\n",
    "        Function to find the real and imaginary parts of an array of complex numbers.\n",
    "        \"\"\"\n",
    "    try:\n",
    "        originalArray=np.array([ 1.00000000+0.j, 0.70710678+0.70710678j])\n",
    "        realPart=originalArray.real\n",
    "        imginaryPart=originalArray.imag\n",
    "        print(\"Real part of the array: \",realPart)\n",
    "        print(\"Imaginary part of the array: \",imginaryPart)\n",
    "    except Exception:\n",
    "        loggerfile.Logger(\"debug\", \"Invalid program\")"
   ]
  },
  {
   "cell_type": "code",
   "execution_count": null,
   "metadata": {},
   "outputs": [],
   "source": [
    "complexNum()"
   ]
  }
 ]
}