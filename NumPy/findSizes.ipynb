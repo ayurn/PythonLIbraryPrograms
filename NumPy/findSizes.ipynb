{
 "metadata": {
  "language_info": {
   "codemirror_mode": {
    "name": "ipython",
    "version": 3
   },
   "file_extension": ".py",
   "mimetype": "text/x-python",
   "name": "python",
   "nbconvert_exporter": "python",
   "pygments_lexer": "ipython3",
   "version": "3.8.10"
  },
  "orig_nbformat": 4,
  "kernelspec": {
   "name": "python3",
   "display_name": "Python 3.8.10 64-bit"
  },
  "interpreter": {
   "hash": "31f2aee4e71d21fbe5cf8b01ff0e069b9275f58929596ceb00d14d90e3e16cd6"
  }
 },
 "nbformat": 4,
 "nbformat_minor": 2,
 "cells": [
  {
   "cell_type": "code",
   "execution_count": null,
   "metadata": {},
   "outputs": [],
   "source": [
    "'''\n",
    "@Author: Ayur Ninawe\n",
    "@Date: 2021-07-11 18:00:30\n",
    "@Last Modified by: Ayur Ninawe\n",
    "@Last Modified time: 2021-07-11 18:00:30\n",
    "@Title : Write a Python program to find the number of elements of an array, length of one\n",
    "array element in bytes and total bytes consumed by the elements.\n",
    "'''"
   ]
  },
  {
   "cell_type": "code",
   "execution_count": 1,
   "metadata": {},
   "outputs": [],
   "source": [
    "import numpy as np\n",
    "from loggerfile import Log "
   ]
  },
  {
   "cell_type": "code",
   "execution_count": 2,
   "metadata": {},
   "outputs": [],
   "source": [
    "def findSixes():\n",
    "    \"\"\"\n",
    "        Description:\n",
    "        Function to find the number of elements of an array, length of one\n",
    "        array element in bytes and total bytes consumed by the elements.\n",
    "        \"\"\"\n",
    "    try:\n",
    "        array= np.array([1,2,3])\n",
    "        print(\"Size of the array: \",array.size)\n",
    "        print(\"Length of one array element in bytes: \",array.itemsize)\n",
    "        print(\"Total bytes consumed by the elements of the array: \",array.size*array.itemsize)\n",
    "    except Exception as e:\n",
    "        loggerfile.Log.logging.error(e)"
   ]
  },
  {
   "cell_type": "code",
   "execution_count": 3,
   "metadata": {},
   "outputs": [
    {
     "output_type": "stream",
     "name": "stdout",
     "text": [
      "Size of the array:  3\nLength of one array element in bytes:  8\nTotal bytes consumed by the elements of the array:  24\n"
     ]
    }
   ],
   "source": [
    "findSixes()"
   ]
  },
  {
   "cell_type": "code",
   "execution_count": null,
   "metadata": {},
   "outputs": [],
   "source": []
  }
 ]
}