{
 "metadata": {
  "language_info": {
   "codemirror_mode": {
    "name": "ipython",
    "version": 3
   },
   "file_extension": ".py",
   "mimetype": "text/x-python",
   "name": "python",
   "nbconvert_exporter": "python",
   "pygments_lexer": "ipython3",
   "version": "3.8.10"
  },
  "orig_nbformat": 4,
  "kernelspec": {
   "name": "python3",
   "display_name": "Python 3.8.10 64-bit"
  },
  "interpreter": {
   "hash": "31f2aee4e71d21fbe5cf8b01ff0e069b9275f58929596ceb00d14d90e3e16cd6"
  }
 },
 "nbformat": 4,
 "nbformat_minor": 2,
 "cells": [
  {
   "cell_type": "code",
   "execution_count": null,
   "metadata": {},
   "outputs": [],
   "source": [
    "'''\n",
    "@Author: Ayur Ninawe\n",
    "@Date: 2021-07-12 20:00:30\n",
    "@Last Modified by: Ayur Ninawe\n",
    "@Last Modified time: 2021-07-12 20:00:30\n",
    "@Title :Write a Python program to create and display a one-dimensional array-like object\n",
    "containing an array of data using Pandas module.\n",
    "'''"
   ]
  },
  {
   "cell_type": "code",
   "execution_count": 2,
   "metadata": {},
   "outputs": [],
   "source": [
    "import pandas as pd \n",
    "from loggerfile import Log"
   ]
  },
  {
   "cell_type": "code",
   "execution_count": 3,
   "metadata": {},
   "outputs": [],
   "source": [
    "def createarray():\n",
    "    \"\"\"\n",
    "    Description : \n",
    "        function to create and display a one-dimensional array-like object\n",
    "        containing an array of data using Pandas module.\n",
    "    \"\"\"\n",
    "    try:\n",
    "        array=pd.Series([1,2,3,4,5])\n",
    "        print(array)\n",
    "    except Exception as e:\n",
    "        loggerfile.Log.logging.error(e)"
   ]
  },
  {
   "cell_type": "code",
   "execution_count": 4,
   "metadata": {},
   "outputs": [
    {
     "output_type": "stream",
     "name": "stdout",
     "text": [
      "0    1\n1    2\n2    3\n3    4\n4    5\ndtype: int64\n"
     ]
    }
   ],
   "source": [
    "createarray()"
   ]
  },
  {
   "cell_type": "code",
   "execution_count": null,
   "metadata": {},
   "outputs": [],
   "source": []
  }
 ]
}