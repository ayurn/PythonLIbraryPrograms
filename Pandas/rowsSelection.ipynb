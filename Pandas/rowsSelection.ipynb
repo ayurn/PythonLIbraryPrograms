{
 "metadata": {
  "language_info": {
   "codemirror_mode": {
    "name": "ipython",
    "version": 3
   },
   "file_extension": ".py",
   "mimetype": "text/x-python",
   "name": "python",
   "nbconvert_exporter": "python",
   "pygments_lexer": "ipython3",
   "version": "3.8.10"
  },
  "orig_nbformat": 4,
  "kernelspec": {
   "name": "python3",
   "display_name": "Python 3.8.10 64-bit"
  },
  "interpreter": {
   "hash": "31f2aee4e71d21fbe5cf8b01ff0e069b9275f58929596ceb00d14d90e3e16cd6"
  }
 },
 "nbformat": 4,
 "nbformat_minor": 2,
 "cells": [
  {
   "cell_type": "code",
   "execution_count": null,
   "metadata": {},
   "outputs": [],
   "source": [
    "'''\n",
    "@Author: Ayur Ninawe\n",
    "@Date: 2021-07-13 16:00:30\n",
    "@Last Modified by: Ayur Ninawe\n",
    "@Last Modified time: 2021-07-13 16:00:30\n",
    "@Title :Write a Python program to select the rows where the number of attempts in the examination is greater than 2.\n",
    "'''"
   ]
  },
  {
   "cell_type": "code",
   "execution_count": 1,
   "metadata": {},
   "outputs": [],
   "source": [
    "import numpy as np \n",
    "import pandas as pd \n",
    "from loggerfile import Log"
   ]
  },
  {
   "cell_type": "code",
   "execution_count": 2,
   "metadata": {},
   "outputs": [],
   "source": [
    "def selection():\n",
    "    \"\"\"\n",
    "    Description : \n",
    "    function to select the rows where the number of attempts in the examination is more than 2.\n",
    "    \"\"\"\n",
    "    try:\n",
    "        exam_data = {'name': ['Anastasia', 'Dima', 'Katherine', 'James', 'Emily', 'Michael', 'Matthew', 'Laura', 'Kevin', 'Jonas'],\n",
    "'score': [12.5, 9, 16.5, np.nan, 9, 20, 14.5, np.nan, 8, 19],\n",
    "'attempts': [1, 3, 2, 3, 2, 3, 1, 1, 2, 1],\n",
    "'qualify': ['yes', 'no', 'yes', 'no', 'no', 'yes', 'yes', 'no', 'no', 'yes']}\n",
    "        labels = ['a', 'b', 'c', 'd', 'e', 'f', 'g', 'h', 'i', 'j']\n",
    "\n",
    "        dataFrame=pd.DataFrame(exam_data,labels)\n",
    "        print(dataFrame[dataFrame['attempts']>2])\n",
    "    except Exception as e:\n",
    "        loggerfile.Log.logging.error(e)"
   ]
  },
  {
   "cell_type": "code",
   "execution_count": 3,
   "metadata": {},
   "outputs": [
    {
     "output_type": "stream",
     "name": "stdout",
     "text": [
      "      name  score  attempts qualify\nb     Dima    9.0         3      no\nd    James    NaN         3      no\nf  Michael   20.0         3     yes\n"
     ]
    }
   ],
   "source": [
    "selection()"
   ]
  },
  {
   "cell_type": "code",
   "execution_count": null,
   "metadata": {},
   "outputs": [],
   "source": []
  }
 ]
}